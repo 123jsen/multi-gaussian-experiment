{
 "cells": [
  {
   "cell_type": "code",
   "execution_count": 86,
   "metadata": {},
   "outputs": [],
   "source": [
    "import torch\n",
    "import numpy as np\n",
    "from time import time"
   ]
  },
  {
   "cell_type": "code",
   "execution_count": 87,
   "metadata": {},
   "outputs": [],
   "source": [
    "def timed(func): \n",
    "    def wrapper_func(*args, **kwargs): \n",
    "        t1 = time() \n",
    "        result = func(*args, **kwargs) \n",
    "        t2 = time() \n",
    "        print(f'{(t2-t1):.8f}s') \n",
    "        return result \n",
    "    return wrapper_func "
   ]
  },
  {
   "cell_type": "markdown",
   "metadata": {},
   "source": [
    "Investigate the difference in time for numpy and torch's multivariate normal random generator"
   ]
  },
  {
   "cell_type": "code",
   "execution_count": 88,
   "metadata": {},
   "outputs": [
    {
     "name": "stdout",
     "output_type": "stream",
     "text": [
      "3.10636926s\n"
     ]
    }
   ],
   "source": [
    "mean_np = np.array([0.0, 0.0])\n",
    "cov_np = np.array([[1.0, 0.0], [0.0, 1.0]])\n",
    "\n",
    "@timed\n",
    "def numpy_multivariate_to_torch():\n",
    "    for i in range(10000):\n",
    "        torch.from_numpy(np.random.multivariate_normal(mean_np, cov_np, 10000))\n",
    "\n",
    "\n",
    "numpy_multivariate_to_torch()"
   ]
  },
  {
   "cell_type": "code",
   "execution_count": 89,
   "metadata": {},
   "outputs": [
    {
     "name": "stdout",
     "output_type": "stream",
     "text": [
      "6.83399343s\n"
     ]
    }
   ],
   "source": [
    "mean_torch = torch.from_numpy(mean_np)\n",
    "cov_torch = torch.from_numpy(cov_np)\n",
    "\n",
    "@timed\n",
    "def torch_multivariate():\n",
    "    for i in range(10000):\n",
    "        torch.distributions.MultivariateNormal(mean_torch, cov_torch).sample((10000,))\n",
    "\n",
    "torch_multivariate()"
   ]
  },
  {
   "cell_type": "code",
   "execution_count": 90,
   "metadata": {},
   "outputs": [
    {
     "name": "stdout",
     "output_type": "stream",
     "text": [
      "4.09628749s\n"
     ]
    }
   ],
   "source": [
    "@timed\n",
    "def torch_from_gaussia():\n",
    "    for i in range(10000):\n",
    "        torch.mm(torch.randn(10000, 2, dtype=torch.float64), cov_torch) + mean_torch\n",
    "\n",
    "torch_from_gaussia()"
   ]
  },
  {
   "cell_type": "markdown",
   "metadata": {},
   "source": [
    "Investigate the same but for GPU"
   ]
  },
  {
   "cell_type": "code",
   "execution_count": 91,
   "metadata": {},
   "outputs": [
    {
     "name": "stdout",
     "output_type": "stream",
     "text": [
      "Name of GPU: NVIDIA GeForce RTX 3050\n"
     ]
    }
   ],
   "source": [
    "device = 'cuda'\n",
    "print(\"Name of GPU:\", torch.cuda.get_device_name(0))"
   ]
  },
  {
   "cell_type": "code",
   "execution_count": 92,
   "metadata": {},
   "outputs": [
    {
     "name": "stdout",
     "output_type": "stream",
     "text": [
      "3.13738084s\n"
     ]
    }
   ],
   "source": [
    "@timed\n",
    "def numpy_multivariate_cuda():\n",
    "    for i in range(10000):\n",
    "        torch.from_numpy(np.random.multivariate_normal(mean_np, cov_np, 10000)).cuda()\n",
    "\n",
    "\n",
    "numpy_multivariate_to_torch()"
   ]
  },
  {
   "cell_type": "code",
   "execution_count": 97,
   "metadata": {},
   "outputs": [
    {
     "name": "stdout",
     "output_type": "stream",
     "text": [
      "9.78748703s\n"
     ]
    }
   ],
   "source": [
    "@timed\n",
    "def torch_multivariate_cuda():\n",
    "    for i in range(10000):\n",
    "        torch.distributions.MultivariateNormal(mean_torch, cov_torch).sample((10000,)).cuda()\n",
    "\n",
    "torch_multivariate_cuda()"
   ]
  },
  {
   "cell_type": "code",
   "execution_count": 94,
   "metadata": {},
   "outputs": [
    {
     "name": "stdout",
     "output_type": "stream",
     "text": [
      "1.41732359s\n"
     ]
    }
   ],
   "source": [
    "cov_cuda = cov_torch.to(device)\n",
    "mean_cuda = mean_torch.to(device)\n",
    "\n",
    "@timed\n",
    "def torch_from_gaussian_cuda():\n",
    "    for i in range(10000 ):\n",
    "        x = torch.randn(10000, 2, dtype=torch.float64, device=device)\n",
    "        x = torch.mm(x, cov_cuda) + mean_cuda\n",
    "\n",
    "torch_from_gaussian_cuda()"
   ]
  },
  {
   "cell_type": "code",
   "execution_count": 96,
   "metadata": {},
   "outputs": [
    {
     "name": "stdout",
     "output_type": "stream",
     "text": [
      "2.03228903s\n"
     ]
    }
   ],
   "source": [
    "@timed\n",
    "def torch_from_gaussian_cuda():\n",
    "    for i in range(10000 ):\n",
    "        x = torch.randn(10000, 2, dtype=torch.float64, device=device)\n",
    "        x = torch.mm(x, cov_cuda) + mean_cuda\n",
    "        x.cpu()\n",
    "\n",
    "torch_from_gaussian_cuda()"
   ]
  }
 ],
 "metadata": {
  "kernelspec": {
   "display_name": "Python 3",
   "language": "python",
   "name": "python3"
  },
  "language_info": {
   "codemirror_mode": {
    "name": "ipython",
    "version": 3
   },
   "file_extension": ".py",
   "mimetype": "text/x-python",
   "name": "python",
   "nbconvert_exporter": "python",
   "pygments_lexer": "ipython3",
   "version": "3.10.4"
  }
 },
 "nbformat": 4,
 "nbformat_minor": 2
}
